{
 "cells": [
  {
   "cell_type": "markdown",
   "metadata": {},
   "source": [
    "[1. What was the impact from implementing Intellicron?](#question1)\n",
    "\n",
    "[2. How certain are you of these results? Do you have enough data?](#question2)\n",
    "\n",
    "[3. Do you have any concerns about the split test’s implementation? Is there anything you would do differently next time?](#question3)\n",
    "\n",
    "[4. Should we implement Intellicron? What other data, if any, would you need to make this determination?](#question4)"
   ]
  },
  {
   "cell_type": "code",
   "execution_count": 1,
   "metadata": {},
   "outputs": [],
   "source": [
    "#First things first, let's import pandas, read the two csvs, and do some quick data reformatting.\n",
    "import pandas as pd\n",
    "import sys\n",
    "sys.path.append('Product_Analyst_Case_Study')\n",
    "\n",
    "# read in prequals\n",
    "df1 = pd.read_csv('Product_Analyst_Case_Study/prequals.csv')\n",
    "df1['completed_checkout'] = df1.checkout_id.notnull().apply(lambda x: 1 if x else 0)\n",
    "\n",
    "# read in intellicron_prequals and merge with prequals df\n",
    "dat2 = pd.read_csv('Product_Analyst_Case_Study/intellicron_prequals.csv')\n",
    "df2 = dat2.merge(df1, how='left', on='prequal_id')\n"
   ]
  },
  {
   "cell_type": "code",
   "execution_count": 2,
   "metadata": {},
   "outputs": [
    {
     "data": {
      "text/html": [
       "<div>\n",
       "<style scoped>\n",
       "    .dataframe tbody tr th:only-of-type {\n",
       "        vertical-align: middle;\n",
       "    }\n",
       "\n",
       "    .dataframe tbody tr th {\n",
       "        vertical-align: top;\n",
       "    }\n",
       "\n",
       "    .dataframe thead th {\n",
       "        text-align: right;\n",
       "    }\n",
       "</style>\n",
       "<table border=\"1\" class=\"dataframe\">\n",
       "  <thead>\n",
       "    <tr style=\"text-align: right;\">\n",
       "      <th></th>\n",
       "      <th>Unnamed: 0</th>\n",
       "      <th>completed_prequal</th>\n",
       "      <th>approved</th>\n",
       "      <th>completed_checkout</th>\n",
       "    </tr>\n",
       "  </thead>\n",
       "  <tbody>\n",
       "    <tr>\n",
       "      <th>count</th>\n",
       "      <td>199751.000000</td>\n",
       "      <td>199751.000000</td>\n",
       "      <td>199751.000000</td>\n",
       "      <td>199751.000000</td>\n",
       "    </tr>\n",
       "    <tr>\n",
       "      <th>mean</th>\n",
       "      <td>99876.000000</td>\n",
       "      <td>0.539256</td>\n",
       "      <td>0.361170</td>\n",
       "      <td>0.278447</td>\n",
       "    </tr>\n",
       "    <tr>\n",
       "      <th>std</th>\n",
       "      <td>57663.291148</td>\n",
       "      <td>0.498458</td>\n",
       "      <td>0.480341</td>\n",
       "      <td>0.448236</td>\n",
       "    </tr>\n",
       "    <tr>\n",
       "      <th>min</th>\n",
       "      <td>1.000000</td>\n",
       "      <td>0.000000</td>\n",
       "      <td>0.000000</td>\n",
       "      <td>0.000000</td>\n",
       "    </tr>\n",
       "    <tr>\n",
       "      <th>25%</th>\n",
       "      <td>49938.500000</td>\n",
       "      <td>0.000000</td>\n",
       "      <td>0.000000</td>\n",
       "      <td>0.000000</td>\n",
       "    </tr>\n",
       "    <tr>\n",
       "      <th>50%</th>\n",
       "      <td>99876.000000</td>\n",
       "      <td>1.000000</td>\n",
       "      <td>0.000000</td>\n",
       "      <td>0.000000</td>\n",
       "    </tr>\n",
       "    <tr>\n",
       "      <th>75%</th>\n",
       "      <td>149813.500000</td>\n",
       "      <td>1.000000</td>\n",
       "      <td>1.000000</td>\n",
       "      <td>1.000000</td>\n",
       "    </tr>\n",
       "    <tr>\n",
       "      <th>max</th>\n",
       "      <td>199751.000000</td>\n",
       "      <td>1.000000</td>\n",
       "      <td>1.000000</td>\n",
       "      <td>1.000000</td>\n",
       "    </tr>\n",
       "  </tbody>\n",
       "</table>\n",
       "</div>"
      ],
      "text/plain": [
       "          Unnamed: 0  completed_prequal       approved  completed_checkout\n",
       "count  199751.000000      199751.000000  199751.000000       199751.000000\n",
       "mean    99876.000000           0.539256       0.361170            0.278447\n",
       "std     57663.291148           0.498458       0.480341            0.448236\n",
       "min         1.000000           0.000000       0.000000            0.000000\n",
       "25%     49938.500000           0.000000       0.000000            0.000000\n",
       "50%     99876.000000           1.000000       0.000000            0.000000\n",
       "75%    149813.500000           1.000000       1.000000            1.000000\n",
       "max    199751.000000           1.000000       1.000000            1.000000"
      ]
     },
     "execution_count": 2,
     "metadata": {},
     "output_type": "execute_result"
    }
   ],
   "source": [
    "# looking at df1\n",
    "df1.describe()"
   ]
  },
  {
   "cell_type": "code",
   "execution_count": 3,
   "metadata": {},
   "outputs": [
    {
     "data": {
      "text/html": [
       "<div>\n",
       "<style scoped>\n",
       "    .dataframe tbody tr th:only-of-type {\n",
       "        vertical-align: middle;\n",
       "    }\n",
       "\n",
       "    .dataframe tbody tr th {\n",
       "        vertical-align: top;\n",
       "    }\n",
       "\n",
       "    .dataframe thead th {\n",
       "        text-align: right;\n",
       "    }\n",
       "</style>\n",
       "<table border=\"1\" class=\"dataframe\">\n",
       "  <thead>\n",
       "    <tr style=\"text-align: right;\">\n",
       "      <th></th>\n",
       "      <th>Unnamed: 0_x</th>\n",
       "      <th>Unnamed: 0_y</th>\n",
       "      <th>completed_prequal</th>\n",
       "      <th>approved</th>\n",
       "      <th>completed_checkout</th>\n",
       "    </tr>\n",
       "  </thead>\n",
       "  <tbody>\n",
       "    <tr>\n",
       "      <th>count</th>\n",
       "      <td>9591.00000</td>\n",
       "      <td>9591.000000</td>\n",
       "      <td>9591.000000</td>\n",
       "      <td>9591.000000</td>\n",
       "      <td>9591.000000</td>\n",
       "    </tr>\n",
       "    <tr>\n",
       "      <th>mean</th>\n",
       "      <td>4796.00000</td>\n",
       "      <td>140974.888333</td>\n",
       "      <td>0.595558</td>\n",
       "      <td>0.420915</td>\n",
       "      <td>0.342613</td>\n",
       "    </tr>\n",
       "    <tr>\n",
       "      <th>std</th>\n",
       "      <td>2768.82755</td>\n",
       "      <td>72617.004506</td>\n",
       "      <td>0.490809</td>\n",
       "      <td>0.493732</td>\n",
       "      <td>0.474608</td>\n",
       "    </tr>\n",
       "    <tr>\n",
       "      <th>min</th>\n",
       "      <td>1.00000</td>\n",
       "      <td>143.000000</td>\n",
       "      <td>0.000000</td>\n",
       "      <td>0.000000</td>\n",
       "      <td>0.000000</td>\n",
       "    </tr>\n",
       "    <tr>\n",
       "      <th>25%</th>\n",
       "      <td>2398.50000</td>\n",
       "      <td>32735.500000</td>\n",
       "      <td>0.000000</td>\n",
       "      <td>0.000000</td>\n",
       "      <td>0.000000</td>\n",
       "    </tr>\n",
       "    <tr>\n",
       "      <th>50%</th>\n",
       "      <td>4796.00000</td>\n",
       "      <td>183262.000000</td>\n",
       "      <td>1.000000</td>\n",
       "      <td>0.000000</td>\n",
       "      <td>0.000000</td>\n",
       "    </tr>\n",
       "    <tr>\n",
       "      <th>75%</th>\n",
       "      <td>7193.50000</td>\n",
       "      <td>192739.500000</td>\n",
       "      <td>1.000000</td>\n",
       "      <td>1.000000</td>\n",
       "      <td>1.000000</td>\n",
       "    </tr>\n",
       "    <tr>\n",
       "      <th>max</th>\n",
       "      <td>9591.00000</td>\n",
       "      <td>199694.000000</td>\n",
       "      <td>1.000000</td>\n",
       "      <td>1.000000</td>\n",
       "      <td>1.000000</td>\n",
       "    </tr>\n",
       "  </tbody>\n",
       "</table>\n",
       "</div>"
      ],
      "text/plain": [
       "       Unnamed: 0_x   Unnamed: 0_y  completed_prequal     approved  \\\n",
       "count    9591.00000    9591.000000        9591.000000  9591.000000   \n",
       "mean     4796.00000  140974.888333           0.595558     0.420915   \n",
       "std      2768.82755   72617.004506           0.490809     0.493732   \n",
       "min         1.00000     143.000000           0.000000     0.000000   \n",
       "25%      2398.50000   32735.500000           0.000000     0.000000   \n",
       "50%      4796.00000  183262.000000           1.000000     0.000000   \n",
       "75%      7193.50000  192739.500000           1.000000     1.000000   \n",
       "max      9591.00000  199694.000000           1.000000     1.000000   \n",
       "\n",
       "       completed_checkout  \n",
       "count         9591.000000  \n",
       "mean             0.342613  \n",
       "std              0.474608  \n",
       "min              0.000000  \n",
       "25%              0.000000  \n",
       "50%              0.000000  \n",
       "75%              1.000000  \n",
       "max              1.000000  "
      ]
     },
     "execution_count": 3,
     "metadata": {},
     "output_type": "execute_result"
    }
   ],
   "source": [
    "# looking at df2\n",
    "df2.describe()"
   ]
  },
  {
   "cell_type": "code",
   "execution_count": 4,
   "metadata": {},
   "outputs": [
    {
     "name": "stdout",
     "output_type": "stream",
     "text": [
      "2017-12-31 2018-06-30\n",
      "2018-06-16 2018-06-30\n"
     ]
    }
   ],
   "source": [
    "# because of the large discrepancy in index size of the two dataframes, I want to double check the dates\n",
    "print(df1.prequal_date.min(),df1.prequal_date.max())\n",
    "print(df2.prequal_date.min(),df2.prequal_date.max())"
   ]
  },
  {
   "cell_type": "code",
   "execution_count": 5,
   "metadata": {},
   "outputs": [],
   "source": [
    "#...sneaky sneaks included extra data from before testing period\n",
    "\n",
    "# So now we know that the dataset contains more than just the test period. Let's find the control group and test group\n",
    "# by filtering for prequal_ids sent to intellicron and for dates during our testing period defined as the \n",
    "# min and max date that the intellicron api was called\n",
    "\n",
    "intellicron_users = df2.prequal_id.tolist()\n",
    "\n",
    "i_df = df1[df1.prequal_id.isin(intellicron_users)].reset_index(drop=True)\n",
    "test_start = i_df.prequal_date.min()\n",
    "test_end = i_df.prequal_date.max()\n",
    "\n",
    "control_df = df1[(df1.prequal_id.isin(intellicron_users)==False) & \n",
    "                (df1.prequal_date>=test_start) &\n",
    "                (df1.prequal_date<=test_end)].reset_index(drop=True)"
   ]
  },
  {
   "cell_type": "code",
   "execution_count": 6,
   "metadata": {},
   "outputs": [
    {
     "name": "stdout",
     "output_type": "stream",
     "text": [
      "10689 9591\n"
     ]
    }
   ],
   "source": [
    "# check the number of observations in each\n",
    "print(control_df.index.size, i_df.index.size)"
   ]
  },
  {
   "cell_type": "code",
   "execution_count": 7,
   "metadata": {},
   "outputs": [
    {
     "data": {
      "text/html": [
       "<div>\n",
       "<style scoped>\n",
       "    .dataframe tbody tr th:only-of-type {\n",
       "        vertical-align: middle;\n",
       "    }\n",
       "\n",
       "    .dataframe tbody tr th {\n",
       "        vertical-align: top;\n",
       "    }\n",
       "\n",
       "    .dataframe thead th {\n",
       "        text-align: right;\n",
       "    }\n",
       "</style>\n",
       "<table border=\"1\" class=\"dataframe\">\n",
       "  <thead>\n",
       "    <tr style=\"text-align: right;\">\n",
       "      <th></th>\n",
       "      <th>Unnamed: 0</th>\n",
       "      <th>prequal_id</th>\n",
       "      <th>checkout_id</th>\n",
       "      <th>completed_prequal</th>\n",
       "      <th>approved</th>\n",
       "      <th>completed_checkout</th>\n",
       "    </tr>\n",
       "    <tr>\n",
       "      <th>prequal_date</th>\n",
       "      <th></th>\n",
       "      <th></th>\n",
       "      <th></th>\n",
       "      <th></th>\n",
       "      <th></th>\n",
       "      <th></th>\n",
       "    </tr>\n",
       "  </thead>\n",
       "  <tbody>\n",
       "    <tr>\n",
       "      <th>2018-06-16</th>\n",
       "      <td>84</td>\n",
       "      <td>84</td>\n",
       "      <td>6</td>\n",
       "      <td>84</td>\n",
       "      <td>84</td>\n",
       "      <td>84</td>\n",
       "    </tr>\n",
       "    <tr>\n",
       "      <th>2018-06-17</th>\n",
       "      <td>100</td>\n",
       "      <td>100</td>\n",
       "      <td>-24</td>\n",
       "      <td>100</td>\n",
       "      <td>100</td>\n",
       "      <td>100</td>\n",
       "    </tr>\n",
       "    <tr>\n",
       "      <th>2018-06-18</th>\n",
       "      <td>116</td>\n",
       "      <td>116</td>\n",
       "      <td>75</td>\n",
       "      <td>116</td>\n",
       "      <td>116</td>\n",
       "      <td>116</td>\n",
       "    </tr>\n",
       "    <tr>\n",
       "      <th>2018-06-19</th>\n",
       "      <td>121</td>\n",
       "      <td>121</td>\n",
       "      <td>22</td>\n",
       "      <td>121</td>\n",
       "      <td>121</td>\n",
       "      <td>121</td>\n",
       "    </tr>\n",
       "    <tr>\n",
       "      <th>2018-06-20</th>\n",
       "      <td>100</td>\n",
       "      <td>100</td>\n",
       "      <td>29</td>\n",
       "      <td>100</td>\n",
       "      <td>100</td>\n",
       "      <td>100</td>\n",
       "    </tr>\n",
       "    <tr>\n",
       "      <th>2018-06-21</th>\n",
       "      <td>35</td>\n",
       "      <td>35</td>\n",
       "      <td>1</td>\n",
       "      <td>35</td>\n",
       "      <td>35</td>\n",
       "      <td>35</td>\n",
       "    </tr>\n",
       "    <tr>\n",
       "      <th>2018-06-22</th>\n",
       "      <td>53</td>\n",
       "      <td>53</td>\n",
       "      <td>14</td>\n",
       "      <td>53</td>\n",
       "      <td>53</td>\n",
       "      <td>53</td>\n",
       "    </tr>\n",
       "    <tr>\n",
       "      <th>2018-06-23</th>\n",
       "      <td>25</td>\n",
       "      <td>25</td>\n",
       "      <td>2</td>\n",
       "      <td>25</td>\n",
       "      <td>25</td>\n",
       "      <td>25</td>\n",
       "    </tr>\n",
       "    <tr>\n",
       "      <th>2018-06-24</th>\n",
       "      <td>73</td>\n",
       "      <td>73</td>\n",
       "      <td>11</td>\n",
       "      <td>73</td>\n",
       "      <td>73</td>\n",
       "      <td>73</td>\n",
       "    </tr>\n",
       "    <tr>\n",
       "      <th>2018-06-25</th>\n",
       "      <td>91</td>\n",
       "      <td>91</td>\n",
       "      <td>20</td>\n",
       "      <td>91</td>\n",
       "      <td>91</td>\n",
       "      <td>91</td>\n",
       "    </tr>\n",
       "    <tr>\n",
       "      <th>2018-06-26</th>\n",
       "      <td>87</td>\n",
       "      <td>87</td>\n",
       "      <td>-8</td>\n",
       "      <td>87</td>\n",
       "      <td>87</td>\n",
       "      <td>87</td>\n",
       "    </tr>\n",
       "    <tr>\n",
       "      <th>2018-06-27</th>\n",
       "      <td>48</td>\n",
       "      <td>48</td>\n",
       "      <td>29</td>\n",
       "      <td>48</td>\n",
       "      <td>48</td>\n",
       "      <td>48</td>\n",
       "    </tr>\n",
       "    <tr>\n",
       "      <th>2018-06-28</th>\n",
       "      <td>111</td>\n",
       "      <td>111</td>\n",
       "      <td>22</td>\n",
       "      <td>111</td>\n",
       "      <td>111</td>\n",
       "      <td>111</td>\n",
       "    </tr>\n",
       "    <tr>\n",
       "      <th>2018-06-29</th>\n",
       "      <td>32</td>\n",
       "      <td>32</td>\n",
       "      <td>-4</td>\n",
       "      <td>32</td>\n",
       "      <td>32</td>\n",
       "      <td>32</td>\n",
       "    </tr>\n",
       "    <tr>\n",
       "      <th>2018-06-30</th>\n",
       "      <td>22</td>\n",
       "      <td>22</td>\n",
       "      <td>-7</td>\n",
       "      <td>22</td>\n",
       "      <td>22</td>\n",
       "      <td>22</td>\n",
       "    </tr>\n",
       "  </tbody>\n",
       "</table>\n",
       "</div>"
      ],
      "text/plain": [
       "              Unnamed: 0  prequal_id  checkout_id  completed_prequal  \\\n",
       "prequal_date                                                           \n",
       "2018-06-16            84          84            6                 84   \n",
       "2018-06-17           100         100          -24                100   \n",
       "2018-06-18           116         116           75                116   \n",
       "2018-06-19           121         121           22                121   \n",
       "2018-06-20           100         100           29                100   \n",
       "2018-06-21            35          35            1                 35   \n",
       "2018-06-22            53          53           14                 53   \n",
       "2018-06-23            25          25            2                 25   \n",
       "2018-06-24            73          73           11                 73   \n",
       "2018-06-25            91          91           20                 91   \n",
       "2018-06-26            87          87           -8                 87   \n",
       "2018-06-27            48          48           29                 48   \n",
       "2018-06-28           111         111           22                111   \n",
       "2018-06-29            32          32           -4                 32   \n",
       "2018-06-30            22          22           -7                 22   \n",
       "\n",
       "              approved  completed_checkout  \n",
       "prequal_date                                \n",
       "2018-06-16          84                  84  \n",
       "2018-06-17         100                 100  \n",
       "2018-06-18         116                 116  \n",
       "2018-06-19         121                 121  \n",
       "2018-06-20         100                 100  \n",
       "2018-06-21          35                  35  \n",
       "2018-06-22          53                  53  \n",
       "2018-06-23          25                  25  \n",
       "2018-06-24          73                  73  \n",
       "2018-06-25          91                  91  \n",
       "2018-06-26          87                  87  \n",
       "2018-06-27          48                  48  \n",
       "2018-06-28         111                 111  \n",
       "2018-06-29          32                  32  \n",
       "2018-06-30          22                  22  "
      ]
     },
     "execution_count": 7,
     "metadata": {},
     "output_type": "execute_result"
    }
   ],
   "source": [
    "# compare the test group to the control group to look for any inconsistencies, patterns\n",
    "control_df.groupby('prequal_date').count()-i_df.groupby('prequal_date').count()"
   ]
  },
  {
   "cell_type": "code",
   "execution_count": 8,
   "metadata": {},
   "outputs": [
    {
     "data": {
      "text/plain": [
       "Unnamed: 0            0.102211\n",
       "prequal_id            0.102211\n",
       "checkout_id           0.050366\n",
       "completed_prequal     0.102211\n",
       "approved              0.102211\n",
       "completed_checkout    0.102211\n",
       "dtype: float64"
      ]
     },
     "execution_count": 8,
     "metadata": {},
     "output_type": "execute_result"
    }
   ],
   "source": [
    "# What is the average percent difference in observations in each category?\n",
    "((control_df.groupby('prequal_date').count()-i_df.groupby('prequal_date').count())/\n",
    "(control_df.groupby('prequal_date')).count()).mean()"
   ]
  },
  {
   "cell_type": "markdown",
   "metadata": {},
   "source": [
    "<a id='question1'></a>\n",
    "### Question 1\n",
    "What was the impact from implementing Intellicron?"
   ]
  },
  {
   "cell_type": "code",
   "execution_count": 9,
   "metadata": {},
   "outputs": [
    {
     "name": "stdout",
     "output_type": "stream",
     "text": [
      "Intellicron checkout conversion rate = 0.34261286622875614\n",
      "Intellicron approval rate = 0.42091544155979566\n",
      "Intellicron completed prequal rate = 0.5955583359399437\n",
      "Control group checkout conversion rate = 0.32500701655907943\n",
      "Control approval rate = 0.3965759191692394\n",
      "Control completed prequal rate = 0.5584245486013659\n"
     ]
    }
   ],
   "source": [
    "# because these vectors are binomial distributions, I can take the mean as a probability\n",
    "print('Intellicron checkout conversion rate = %s'%i_df.completed_checkout.mean())\n",
    "print('Intellicron approval rate = %s'%i_df.approved.mean())\n",
    "print('Intellicron completed prequal rate = %s'%i_df.completed_prequal.mean())\n",
    "\n",
    "print('Control group checkout conversion rate = %s'%control_df.completed_checkout.mean())\n",
    "print('Control approval rate = %s'%control_df.approved.mean())\n",
    "print('Control completed prequal rate = %s'%control_df.completed_prequal.mean())"
   ]
  },
  {
   "cell_type": "code",
   "execution_count": 10,
   "metadata": {},
   "outputs": [
    {
     "name": "stdout",
     "output_type": "stream",
     "text": [
      "Using Intellicron appears to have resulted in a 0.03713378733857775 absolute change in the Application Step, and a 0.06649741210622509 relative change\n"
     ]
    }
   ],
   "source": [
    "print(('Using Intellicron appears to have resulted in a {0} absolute change in the Application Step, ' + \n",
    "       'and a {1} relative change').format(\n",
    "                                    i_df.completed_prequal.mean()-control_df.completed_prequal.mean(),\n",
    "                                    (i_df.completed_prequal.mean()-control_df.completed_prequal.mean())/control_df.completed_prequal.mean()\n",
    "                                    ))"
   ]
  },
  {
   "cell_type": "markdown",
   "metadata": {},
   "source": [
    "<a id='question2'></a>\n",
    "### Question 2\n",
    "2. How certain are you of these results? Do you have enough data?\n",
    "\n",
    "Restating this question a bit, can we be confident that the differences between the Intellicron customers and the control customers are statistically significant?"
   ]
  },
  {
   "cell_type": "code",
   "execution_count": 11,
   "metadata": {},
   "outputs": [
    {
     "name": "stdout",
     "output_type": "stream",
     "text": [
      "(2.6557295857797354, 0.007913704456696072)\n",
      "(3.521961879675138, 0.00042836573565700325)\n",
      "(5.345940575289408, 8.99487177832141e-08)\n"
     ]
    }
   ],
   "source": [
    "# let's perform a two sample z test to test the means of the binomial distribution of the control group and the \n",
    "# test group. The null hypothesis is that the mean of the control equals the mean of the test group\n",
    "\n",
    "from statsmodels.stats.weightstats import ztest\n",
    "\n",
    "print(ztest(i_df.completed_checkout,control_df.completed_checkout))\n",
    "print(ztest(i_df.approved,control_df.approved))\n",
    "print(ztest(i_df.completed_prequal,control_df.completed_prequal))"
   ]
  },
  {
   "cell_type": "markdown",
   "metadata": {},
   "source": [
    "For all three of the above it appears that we can reject the null hypothesis at the 1 % significance level."
   ]
  },
  {
   "cell_type": "code",
   "execution_count": 12,
   "metadata": {},
   "outputs": [
    {
     "data": {
      "text/plain": [
       "<matplotlib.axes._subplots.AxesSubplot at 0x1a24827b38>"
      ]
     },
     "execution_count": 12,
     "metadata": {},
     "output_type": "execute_result"
    },
    {
     "data": {
      "image/png": "[encoded data removed]",
      "text/plain": [
       "<Figure size 432x288 with 1 Axes>"
      ]
     },
     "metadata": {},
     "output_type": "display_data"
    }
   ],
   "source": [
    "# adding some charts for the presentation\n",
    "%matplotlib inline\n",
    "\n",
    "dat = {'Control':control_df.completed_prequal.mean(),\n",
    "      'Intellicron':i_df.completed_prequal.mean()}\n",
    "df_bar = pd.DataFrame(data=dat,index=[0]).T\n",
    "df_bar.plot(kind='bar',title='Customer Prequal Completion Rates',ylim=[0,.75],legend=False)"
   ]
  },
  {
   "cell_type": "code",
   "execution_count": 13,
   "metadata": {},
   "outputs": [
    {
     "data": {
      "text/plain": [
       "<matplotlib.axes._subplots.AxesSubplot at 0x1a248f8dd8>"
      ]
     },
     "execution_count": 13,
     "metadata": {},
     "output_type": "execute_result"
    },
    {
     "data": {
      "image/png": "[encoded data removed]",
      "text/plain": [
       "<Figure size 432x288 with 1 Axes>"
      ]
     },
     "metadata": {},
     "output_type": "display_data"
    }
   ],
   "source": [
    "# because I can fairly easily get daily completed prequal rates\n",
    "df_plot = pd.DataFrame(data={\n",
    "    'Control':control_df.groupby('prequal_date')['completed_prequal'].mean(),\n",
    "    'Intellicron':i_df.groupby('prequal_date')['completed_prequal'].mean()\n",
    "}).reset_index()\n",
    "df_plot['dates'] = df_plot.prequal_date.apply(lambda x: pd.to_datetime(x,format='%Y-%m-%d'))\n",
    "df_plot.plot(x='dates',y=['Control','Intellicron'],\n",
    "             title='Daily Prequal Completion Rates', rot=45)"
   ]
  }
 ],
 "metadata": {
  "kernelspec": {
   "display_name": "Python 3",
   "language": "python",
   "name": "python3"
  },
  "language_info": {
   "codemirror_mode": {
    "name": "ipython",
    "version": 3
   },
   "file_extension": ".py",
   "mimetype": "text/x-python",
   "name": "python",
   "nbconvert_exporter": "python",
   "pygments_lexer": "ipython3",
   "version": "3.6.5"
  }
 },
 "nbformat": 4,
 "nbformat_minor": 2
}
